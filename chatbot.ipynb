{
 "cells": [
  {
   "cell_type": "markdown",
   "id": "c593e910",
   "metadata": {},
   "source": [
    "## 1. Setup\n",
    "\n",
    "Install required text processing libraries for the example"
   ]
  },
  {
   "cell_type": "code",
   "execution_count": 37,
   "id": "8dff1dfe",
   "metadata": {},
   "outputs": [],
   "source": [
    "# !pip install nltk\n",
    "# import nltk"
   ]
  },
  {
   "cell_type": "code",
   "execution_count": 38,
   "id": "1dc3c146",
   "metadata": {},
   "outputs": [],
   "source": [
    "# nltk.download('stopwords')"
   ]
  },
  {
   "cell_type": "code",
   "execution_count": 39,
   "id": "89f39d41",
   "metadata": {},
   "outputs": [],
   "source": [
    "# nltk.download('punkt')"
   ]
  },
  {
   "cell_type": "markdown",
   "id": "f40c3a4f",
   "metadata": {},
   "source": [
    "## 2. Creating Text Representations\n",
    "\n",
    "Text data needs to be converted to numeric representations before they can be used to train deep learning models. The Spam classification feature data is converted to TF-IDF vectors and the target variable is converted to one-hot encoding."
   ]
  },
  {
   "cell_type": "code",
   "execution_count": 40,
   "id": "08900f4b",
   "metadata": {},
   "outputs": [
    {
     "name": "stdout",
     "output_type": "stream",
     "text": [
      "\n",
      "Loaded Data :\n",
      "------------------------------------\n",
      "          CLASS                               MESSAGE\n",
      "0  company_info         What is Handyman Prosthetics?\n",
      "1  company_info                     What is Handyman?\n",
      "2  company_info                Tell me about Handyman\n",
      "3  company_info    Tell me about handyman prosthetics\n",
      "4  company_info  Hi Handy. Tell me about your company\n"
     ]
    }
   ],
   "source": [
    "import pandas as pd\n",
    "import os\n",
    "import numpy as np\n",
    "from sklearn.model_selection import train_test_split\n",
    "from sklearn.preprocessing import scale\n",
    "import pickle\n",
    "\n",
    "from tensorflow import keras\n",
    "from tensorflow.keras import optimizers\n",
    "from tensorflow.keras.regularizers import l2\n",
    "\n",
    "\n",
    "#Load chat Data and review content\n",
    "chat_data = pd.read_csv(\"chats.csv\")\n",
    "\n",
    "print(\"\\nLoaded Data :\\n------------------------------------\")\n",
    "print(chat_data.head())\n",
    "\n",
    "#Separate feature and target data\n",
    "chat_classes_raw = chat_data[\"CLASS\"]\n",
    "chat_messages = chat_data[\"MESSAGE\"]\n",
    "num_classes = chat_classes_raw.unique().shape[0]"
   ]
  },
  {
   "cell_type": "code",
   "execution_count": 41,
   "id": "64202dcd",
   "metadata": {},
   "outputs": [
    {
     "name": "stderr",
     "output_type": "stream",
     "text": [
      "[nltk_data] Downloading package wordnet to\n",
      "[nltk_data]     C:\\Users\\vssashar\\AppData\\Roaming\\nltk_data...\n",
      "[nltk_data]   Package wordnet is already up-to-date!\n"
     ]
    },
    {
     "name": "stdout",
     "output_type": "stream",
     "text": [
      "TF-IDF Matrix Shape :  (451, 73)\n",
      "One-hot Encoding Shape :  (451, 7)\n"
     ]
    }
   ],
   "source": [
    "\n",
    "import nltk\n",
    "import tensorflow as tf\n",
    "from nltk.corpus import stopwords\n",
    "\n",
    "nltk.download('wordnet')\n",
    "from nltk.stem import WordNetLemmatizer\n",
    "lemmatizer = WordNetLemmatizer()\n",
    "\n",
    "#Custom tokenizer to remove stopwords and use lemmatization\n",
    "def customtokenize(str):\n",
    "    #Split string as tokens\n",
    "    tokens=nltk.word_tokenize(str)\n",
    "    #Filter for stopwords\n",
    "    nostop = list(filter(lambda token: token not in stopwords.words('english'), tokens))\n",
    "    #Perform lemmatization\n",
    "    lemmatized=[lemmatizer.lemmatize(word) for word in nostop ]\n",
    "    return lemmatized\n",
    "\n",
    "from sklearn.feature_extraction.text import TfidfVectorizer\n",
    "\n",
    "#Build a TF-IDF Vectorizer model\n",
    "vectorizer = TfidfVectorizer(tokenizer=customtokenize)\n",
    "\n",
    "#Transform feature input to TF-IDF\n",
    "tfidf=vectorizer.fit_transform(chat_messages)\n",
    "pickle.dump( vectorizer, open( \"bot_vectorizer.p\", \"wb\" ) )\n",
    "\n",
    "#Convert TF-IDF to numpy array\n",
    "tfidf_array = tfidf.toarray()\n",
    "\n",
    "#Build a label encoder for target variable to convert strings to numeric values.\n",
    "from sklearn import preprocessing\n",
    "label_encoder = preprocessing.LabelEncoder()\n",
    "\n",
    "\n",
    "chat_classes = label_encoder.fit_transform(\n",
    "                                chat_classes_raw)\n",
    "\n",
    "np.save('bot_label_encoder.npy', label_encoder.classes_)\n",
    "#Convert target to one-hot encoding vector\n",
    "chat_classes = tf.keras.utils.to_categorical(chat_classes,num_classes)\n",
    "\n",
    "print(\"TF-IDF Matrix Shape : \", tfidf.shape)\n",
    "print(\"One-hot Encoding Shape : \", chat_classes.shape)\n",
    "\n",
    "X_train,X_test,Y_train,Y_test = train_test_split( tfidf_array, chat_classes, test_size=0.10)"
   ]
  },
  {
   "cell_type": "markdown",
   "id": "585a983f",
   "metadata": {},
   "source": [
    "## 3. Building and Evaluating the Model"
   ]
  },
  {
   "cell_type": "code",
   "execution_count": 42,
   "id": "d927db5d",
   "metadata": {},
   "outputs": [
    {
     "name": "stdout",
     "output_type": "stream",
     "text": [
      "Model: \"sequential_1\"\n",
      "_________________________________________________________________\n",
      " Layer (type)                Output Shape              Param #   \n",
      "=================================================================\n",
      " Hidden-Layer-1 (Dense)      (None, 32)                2368      \n",
      "                                                                 \n",
      " Hidden-Layer-2 (Dense)      (None, 32)                1056      \n",
      "                                                                 \n",
      " Hidden-Layer-3 (Dense)      (None, 32)                1056      \n",
      "                                                                 \n",
      " Output-Layer (Dense)        (None, 7)                 231       \n",
      "                                                                 \n",
      "=================================================================\n",
      "Total params: 4,711\n",
      "Trainable params: 4,711\n",
      "Non-trainable params: 0\n",
      "_________________________________________________________________\n"
     ]
    }
   ],
   "source": [
    "\n",
    "#Setup Hyper Parameters for building the model\n",
    "NB_CLASSES=num_classes\n",
    "N_HIDDEN=32\n",
    "model = tf.keras.models.Sequential()\n",
    "\n",
    "model.add(keras.layers.Dense(N_HIDDEN,\n",
    "                             input_shape=(X_train.shape[1],),\n",
    "                              name='Hidden-Layer-1',\n",
    "                              activation='relu'))\n",
    "\n",
    "model.add(keras.layers.Dense(N_HIDDEN,\n",
    "                              name='Hidden-Layer-2',\n",
    "                              activation='relu'))\n",
    "model.add(keras.layers.Dense(N_HIDDEN,\n",
    "                              name='Hidden-Layer-3',\n",
    "                              activation='relu'))\n",
    "\n",
    "model.add(keras.layers.Dense(NB_CLASSES,\n",
    "                             name='Output-Layer',\n",
    "                             activation='softmax'))\n",
    "\n",
    "model.compile(loss='categorical_crossentropy',\n",
    "              metrics=['accuracy'])\n",
    "\n",
    "\n",
    "model.summary()\n"
   ]
  },
  {
   "cell_type": "code",
   "execution_count": 43,
   "id": "294ceb7c",
   "metadata": {
    "scrolled": false
   },
   "outputs": [
    {
     "name": "stdout",
     "output_type": "stream",
     "text": [
      "\n",
      "Training Progress:\n",
      "------------------------------------\n",
      "Epoch 1/30\n",
      "41/41 [==============================] - 1s 5ms/step - loss: 1.7854 - accuracy: 0.3981 - val_loss: 1.5891 - val_accuracy: 0.5432\n",
      "Epoch 2/30\n",
      "41/41 [==============================] - 0s 2ms/step - loss: 1.5077 - accuracy: 0.4259 - val_loss: 1.3269 - val_accuracy: 0.5062\n",
      "Epoch 3/30\n",
      "41/41 [==============================] - 0s 2ms/step - loss: 1.3312 - accuracy: 0.4722 - val_loss: 1.1819 - val_accuracy: 0.6790\n",
      "Epoch 4/30\n",
      "41/41 [==============================] - 0s 2ms/step - loss: 1.1470 - accuracy: 0.6605 - val_loss: 1.0085 - val_accuracy: 0.7654\n",
      "Epoch 5/30\n",
      "41/41 [==============================] - 0s 3ms/step - loss: 0.9305 - accuracy: 0.7315 - val_loss: 0.8045 - val_accuracy: 0.7778\n",
      "Epoch 6/30\n",
      "41/41 [==============================] - 0s 2ms/step - loss: 0.7461 - accuracy: 0.7346 - val_loss: 0.7049 - val_accuracy: 0.7901\n",
      "Epoch 7/30\n",
      "41/41 [==============================] - 0s 3ms/step - loss: 0.6023 - accuracy: 0.7531 - val_loss: 0.5459 - val_accuracy: 0.8272\n",
      "Epoch 8/30\n",
      "41/41 [==============================] - 0s 2ms/step - loss: 0.4901 - accuracy: 0.8148 - val_loss: 0.4522 - val_accuracy: 0.8642\n",
      "Epoch 9/30\n",
      "41/41 [==============================] - 0s 2ms/step - loss: 0.4064 - accuracy: 0.8920 - val_loss: 0.3969 - val_accuracy: 0.9136\n",
      "Epoch 10/30\n",
      "41/41 [==============================] - 0s 2ms/step - loss: 0.3358 - accuracy: 0.9167 - val_loss: 0.3510 - val_accuracy: 0.9259\n",
      "Epoch 11/30\n",
      "41/41 [==============================] - 0s 2ms/step - loss: 0.2762 - accuracy: 0.9321 - val_loss: 0.3100 - val_accuracy: 0.9259\n",
      "Epoch 12/30\n",
      "41/41 [==============================] - 0s 3ms/step - loss: 0.2280 - accuracy: 0.9475 - val_loss: 0.2720 - val_accuracy: 0.9383\n",
      "Epoch 13/30\n",
      "41/41 [==============================] - 0s 2ms/step - loss: 0.1877 - accuracy: 0.9599 - val_loss: 0.2392 - val_accuracy: 0.9383\n",
      "Epoch 14/30\n",
      "41/41 [==============================] - 0s 3ms/step - loss: 0.1505 - accuracy: 0.9691 - val_loss: 0.2146 - val_accuracy: 0.9506\n",
      "Epoch 15/30\n",
      "41/41 [==============================] - 0s 3ms/step - loss: 0.1254 - accuracy: 0.9846 - val_loss: 0.1959 - val_accuracy: 0.9506\n",
      "Epoch 16/30\n",
      "41/41 [==============================] - 0s 2ms/step - loss: 0.1009 - accuracy: 0.9815 - val_loss: 0.1839 - val_accuracy: 0.9506\n",
      "Epoch 17/30\n",
      "41/41 [==============================] - 0s 2ms/step - loss: 0.0852 - accuracy: 0.9877 - val_loss: 0.1561 - val_accuracy: 0.9506\n",
      "Epoch 18/30\n",
      "41/41 [==============================] - 0s 2ms/step - loss: 0.0710 - accuracy: 0.9877 - val_loss: 0.1327 - val_accuracy: 0.9630\n",
      "Epoch 19/30\n",
      "41/41 [==============================] - 0s 2ms/step - loss: 0.0608 - accuracy: 0.9846 - val_loss: 0.1209 - val_accuracy: 0.9630\n",
      "Epoch 20/30\n",
      "41/41 [==============================] - 0s 2ms/step - loss: 0.0544 - accuracy: 0.9907 - val_loss: 0.1114 - val_accuracy: 0.9630\n",
      "Epoch 21/30\n",
      "41/41 [==============================] - 0s 2ms/step - loss: 0.0454 - accuracy: 0.9938 - val_loss: 0.0969 - val_accuracy: 0.9753\n",
      "Epoch 22/30\n",
      "41/41 [==============================] - 0s 2ms/step - loss: 0.0396 - accuracy: 0.9907 - val_loss: 0.1041 - val_accuracy: 0.9630\n",
      "Epoch 23/30\n",
      "41/41 [==============================] - 0s 3ms/step - loss: 0.0362 - accuracy: 0.9877 - val_loss: 0.1121 - val_accuracy: 0.9630\n",
      "Epoch 24/30\n",
      "41/41 [==============================] - 0s 2ms/step - loss: 0.0318 - accuracy: 0.9938 - val_loss: 0.0929 - val_accuracy: 0.9753\n",
      "Epoch 25/30\n",
      "41/41 [==============================] - 0s 3ms/step - loss: 0.0314 - accuracy: 0.9938 - val_loss: 0.0934 - val_accuracy: 0.9753\n",
      "Epoch 26/30\n",
      "41/41 [==============================] - 0s 2ms/step - loss: 0.0263 - accuracy: 0.9938 - val_loss: 0.0827 - val_accuracy: 0.9753\n",
      "Epoch 27/30\n",
      "41/41 [==============================] - 0s 2ms/step - loss: 0.0237 - accuracy: 0.9907 - val_loss: 0.0717 - val_accuracy: 0.9877\n",
      "Epoch 28/30\n",
      "41/41 [==============================] - 0s 3ms/step - loss: 0.0255 - accuracy: 0.9907 - val_loss: 0.0755 - val_accuracy: 0.9753\n",
      "Epoch 29/30\n",
      "41/41 [==============================] - 0s 3ms/step - loss: 0.0239 - accuracy: 0.9907 - val_loss: 0.0777 - val_accuracy: 0.9877\n",
      "Epoch 30/30\n",
      "41/41 [==============================] - 0s 2ms/step - loss: 0.0202 - accuracy: 0.9938 - val_loss: 0.0642 - val_accuracy: 0.9877\n",
      "\n",
      "Accuracy during Training :\n",
      "------------------------------------\n"
     ]
    },
    {
     "data": {
      "image/png": "[encoded data removed]",
      "text/plain": [
       "<Figure size 576x360 with 1 Axes>"
      ]
     },
     "metadata": {
      "needs_background": "light"
     },
     "output_type": "display_data"
    },
    {
     "name": "stdout",
     "output_type": "stream",
     "text": [
      "\n",
      "Evaluation against Test Dataset :\n",
      "------------------------------------\n",
      "2/2 [==============================] - 0s 3ms/step - loss: 0.0172 - accuracy: 1.0000\n"
     ]
    },
    {
     "data": {
      "text/plain": [
       "[0.01716342382133007, 1.0]"
      ]
     },
     "execution_count": 43,
     "metadata": {},
     "output_type": "execute_result"
    }
   ],
   "source": [
    "#Make it verbose so we can see the progress\n",
    "VERBOSE=1\n",
    "\n",
    "#Setup Hyper Parameters for training\n",
    "BATCH_SIZE=8\n",
    "EPOCHS=30\n",
    "VALIDATION_SPLIT=0.2\n",
    "\n",
    "print(\"\\nTraining Progress:\\n------------------------------------\")\n",
    "\n",
    "history=model.fit(X_train,\n",
    "          Y_train,\n",
    "          batch_size=BATCH_SIZE,\n",
    "          epochs=EPOCHS,\n",
    "          verbose=VERBOSE,\n",
    "          validation_split=VALIDATION_SPLIT)\n",
    "\n",
    "print(\"\\nAccuracy during Training :\\n------------------------------------\")\n",
    "import matplotlib.pyplot as plt\n",
    "\n",
    "pd.DataFrame(history.history)[\"accuracy\"].plot(figsize=(8, 5))\n",
    "plt.title(\"Accuracy improvements with Epoch\")\n",
    "plt.show()\n",
    "\n",
    "print(\"\\nEvaluation against Test Dataset :\\n------------------------------------\")\n",
    "model.evaluate(X_test,Y_test)"
   ]
  },
  {
   "cell_type": "markdown",
   "id": "6d0cb0b9",
   "metadata": {},
   "source": [
    "## 4. Saving and Loading Models\n",
    "\n",
    "The training and inference environments are usually separate. Models need to be saved after they are validated. They are then loaded into the inference environments for actual prediction"
   ]
  },
  {
   "cell_type": "code",
   "execution_count": 44,
   "id": "76230ccc",
   "metadata": {},
   "outputs": [
    {
     "name": "stderr",
     "output_type": "stream",
     "text": [
      "WARNING:absl:Function `_wrapped_model` contains input name(s) Hidden-Layer-1_input with unsupported characters which will be renamed to hidden_layer_1_input in the SavedModel.\n"
     ]
    },
    {
     "name": "stdout",
     "output_type": "stream",
     "text": [
      "INFO:tensorflow:Assets written to: chatbot_model\\assets\n"
     ]
    },
    {
     "name": "stderr",
     "output_type": "stream",
     "text": [
      "INFO:tensorflow:Assets written to: chatbot_model\\assets\n"
     ]
    }
   ],
   "source": [
    "#Saving a model\n",
    "    \n",
    "model.save(\"chatbot_model\")\n",
    "    "
   ]
  },
  {
   "cell_type": "code",
   "execution_count": 45,
   "id": "983f46c0",
   "metadata": {},
   "outputs": [
    {
     "name": "stdout",
     "output_type": "stream",
     "text": [
      "Model: \"sequential_1\"\n",
      "_________________________________________________________________\n",
      " Layer (type)                Output Shape              Param #   \n",
      "=================================================================\n",
      " Hidden-Layer-1 (Dense)      (None, 32)                2368      \n",
      "                                                                 \n",
      " Hidden-Layer-2 (Dense)      (None, 32)                1056      \n",
      "                                                                 \n",
      " Hidden-Layer-3 (Dense)      (None, 32)                1056      \n",
      "                                                                 \n",
      " Output-Layer (Dense)        (None, 7)                 231       \n",
      "                                                                 \n",
      "=================================================================\n",
      "Total params: 4,711\n",
      "Trainable params: 4,711\n",
      "Non-trainable params: 0\n",
      "_________________________________________________________________\n"
     ]
    }
   ],
   "source": [
    "#Loading a Model \n",
    "loaded_model = keras.models.load_model(\"chatbot_model\")\n",
    "\n",
    "#Print Model Summary\n",
    "loaded_model.summary()"
   ]
  },
  {
   "cell_type": "code",
   "execution_count": 46,
   "id": "ae92a0ab",
   "metadata": {},
   "outputs": [
    {
     "data": {
      "text/plain": [
       "array(['all_products', 'buy_request', 'company_info', 'demo_request',\n",
       "       'end_convo', 'exoskeleton_product', 'prosthesis_products'],\n",
       "      dtype=object)"
      ]
     },
     "execution_count": 46,
     "metadata": {},
     "output_type": "execute_result"
    }
   ],
   "source": [
    "label_encoder.classes_"
   ]
  },
  {
   "cell_type": "markdown",
   "id": "1d9d4714",
   "metadata": {},
   "source": [
    "## 5. Predicting for Text"
   ]
  },
  {
   "cell_type": "code",
   "execution_count": 47,
   "id": "51a495d7",
   "metadata": {},
   "outputs": [
    {
     "name": "stderr",
     "output_type": "stream",
     "text": [
      "[nltk_data] Downloading package wordnet to\n",
      "[nltk_data]     C:\\Users\\vssashar\\AppData\\Roaming\\nltk_data...\n",
      "[nltk_data]   Package wordnet is already up-to-date!\n"
     ]
    }
   ],
   "source": [
    "import nltk\n",
    "import tensorflow as tf\n",
    "from nltk.corpus import stopwords\n",
    "from sklearn import preprocessing\n",
    "\n",
    "nltk.download('wordnet')\n",
    "from nltk.stem import WordNetLemmatizer\n",
    "lemmatizer = WordNetLemmatizer()"
   ]
  },
  {
   "cell_type": "code",
   "execution_count": 48,
   "id": "eb0bdcc1",
   "metadata": {},
   "outputs": [
    {
     "name": "stdout",
     "output_type": "stream",
     "text": [
      "1/1 [==============================] - 0s 44ms/step\n",
      "Prediction Output: [6 3 4 4]\n",
      "Prediction Classes are  ['prosthesis_products' 'demo_request' 'end_convo' 'end_convo']\n"
     ]
    }
   ],
   "source": [
    "#Predict for multiple samples using batch processing\n",
    "#Custom tokenizer to remove stopwords and use lemmatization\n",
    "def customtokenize(str):\n",
    "    #Split string as tokens\n",
    "    tokens=nltk.word_tokenize(str)\n",
    "    #Filter for stopwords\n",
    "    nostop = list(filter(lambda token: token not in stopwords.words('english'), tokens))\n",
    "    #Perform lemmatization\n",
    "    lemmatized=[lemmatizer.lemmatize(word) for word in nostop ]\n",
    "    return lemmatized\n",
    "\n",
    "#Convert input into IF-IDF vector using the same vectorizer model\n",
    "vectorizer = pickle.load( open( \"bot_vectorizer.p\", \"rb\" ) );\n",
    "predict_tfidf=vectorizer.transform([\"tell me about hand prosthetics\",\n",
    "                                    \"how does your product work\",\"Not needed\",\"Thank you\"]).toarray();\n",
    "\n",
    "# print(predict_tfidf.shape)\n",
    "\n",
    "encoder = preprocessing.LabelEncoder();\n",
    "encoder.classes_ = np.load('bot_label_encoder.npy',allow_pickle=True);\n",
    "# print(encoder.classes_)\n",
    "#Predict using model\n",
    "prediction=np.argmax( loaded_model.predict(predict_tfidf), axis=1 );\n",
    "\n",
    "# print('Prediction metrics: ',loaded_model.predict(predict_tfidf))\n",
    "print(\"Prediction Output:\" , prediction);\n",
    "\n",
    "#Print prediction classes\n",
    "print(\"Prediction Classes are \", encoder.inverse_transform(prediction));"
   ]
  },
  {
   "cell_type": "markdown",
   "id": "9d6e2350",
   "metadata": {},
   "source": [
    "## 6. Loading replies\n",
    "Replies need to be saved into \"bot_replies\" folder with names as <bot_message_class>.txt"
   ]
  },
  {
   "cell_type": "code",
   "execution_count": 61,
   "id": "899e4ca3",
   "metadata": {},
   "outputs": [],
   "source": [
    "bot_reply_classes = ['start_convo']+list(encoder.classes_) \n",
    "bot_replies = {}\n",
    "for reply_class in bot_reply_classes:\n",
    "    with open('bot_replies/'+reply_class+'.txt') as f:\n",
    "        bot_replies[reply_class] = f.readlines()"
   ]
  },
  {
   "cell_type": "code",
   "execution_count": 62,
   "id": "d9b0c72c",
   "metadata": {},
   "outputs": [
    {
     "name": "stdout",
     "output_type": "stream",
     "text": [
      "start_convo:\n",
      "Hi! I am Handy, AI chatbot of Handyman Prosthetics. How may I help you?\n",
      "_____________\n",
      "all_products:\n",
      "Here's our complete catalogue:\n",
      "MARK I: For arm amputees. Our simple and light weight model of arm prosthesis. Suitable for simple tasks.\n",
      "MARK II: For arm amputees. An advanced and dextrous arm. Involves softroboric for best grip and individual finger control.\n",
      "EXO 0: For hand injury rehabilitation and hand paralysis. Comfortable, light-weight and simple.\n",
      "EXO I: For hand injury rehabilitation and hand paralysis. Dextrous movements and powerful gripping action.\n",
      "_____________\n",
      "buy_request:\n",
      "Prosthesis is a very personalized solution, differening from user to user.\n",
      "Kindly provide your details here and we will contact you:\n",
      "https://forms.gle/C6Em8mSkH5zgbS576\n",
      "_____________\n",
      "company_info:\n",
      "Handyman Prosthetics create hand prosthesis and exoskeleton support for people who lost their arms or the ability to control it.\n",
      "Our perosonalized solutions enable them to carry out simple day to day tasks without having to rely on others.\n",
      "_____________\n",
      "demo_request:\n",
      "Sure! Here's a video demo:\n",
      "https://youtube.com/playlist?list=PLsE-jsMAf6MONnhrq0_Z4-rIY8xSVyArC\n",
      "_____________\n",
      "end_convo:\n",
      "Thank you for contacting us. Have a nice day!\n",
      "_____________\n",
      "exoskeleton_product:\n",
      "Here are our exoskeleton support solutions:\n",
      "EXO 0: For hand injury rehabilitation and hand paralysis. Comfortable, light-weight and simple.\n",
      "EXO I: For hand injury rehabilitation and hand paralysis. Dextrous movements and powerful gripping action.\n",
      "_____________\n",
      "prosthesis_products:\n",
      "Here are our arm prosthesis solutions:\n",
      "MARK I: For arm amputees. Our simple and light weight model of arm prosthesis. Suitable for simple tasks.\n",
      "MARK II: For arm amputees. An advanced and dextrous arm. Involves softroboric for best grip and individual finger control.\n",
      "_____________\n"
     ]
    }
   ],
   "source": [
    "for reply_class in bot_reply_classes:\n",
    "\n",
    "    print(reply_class+':')\n",
    "    for line in bot_replies[reply_class]:\n",
    "        print(line.strip())\n",
    "    print(\"_____________\")    "
   ]
  },
  {
   "cell_type": "markdown",
   "id": "db9445fe",
   "metadata": {},
   "source": [
    "## 7. Chatbot in action"
   ]
  },
  {
   "cell_type": "code",
   "execution_count": 64,
   "id": "7f6da9cb",
   "metadata": {},
   "outputs": [
    {
     "name": "stdout",
     "output_type": "stream",
     "text": [
      "Handy: Hi! I am Handy, AI chatbot of Handyman Prosthetics. How may I help you?\n",
      "user: Hi Handy. Tell me about your company\n",
      "1/1 [==============================] - 0s 19ms/step\n",
      "Handy: Handyman Prosthetics create hand prosthesis and exoskeleton support for people who lost their arms or the ability to control it.\n",
      "Handy: Our perosonalized solutions enable them to carry out simple day to day tasks without having to rely on others.\n",
      "user: Nice. Tell me about all your products\n",
      "1/1 [==============================] - 0s 15ms/step\n",
      "Handy: Here's our complete catalogue:\n",
      "Handy: MARK I: For arm amputees. Our simple and light weight model of arm prosthesis. Suitable for simple tasks.\n",
      "Handy: MARK II: For arm amputees. An advanced and dextrous arm. Involves softroboric for best grip and individual finger control.\n",
      "Handy: EXO 0: For hand injury rehabilitation and hand paralysis. Comfortable, light-weight and simple.\n",
      "Handy: EXO I: For hand injury rehabilitation and hand paralysis. Dextrous movements and powerful gripping action.\n",
      "user: Suggest solutions for hand amputees\n",
      "1/1 [==============================] - 0s 16ms/step\n",
      "Handy: Here are our arm prosthesis solutions:\n",
      "Handy: MARK I: For arm amputees. Our simple and light weight model of arm prosthesis. Suitable for simple tasks.\n",
      "Handy: MARK II: For arm amputees. An advanced and dextrous arm. Involves softroboric for best grip and individual finger control.\n",
      "user: can i get a demo?\n",
      "1/1 [==============================] - 0s 18ms/step\n",
      "Handy: Sure! Here's a video demo:\n",
      "Handy: https://youtube.com/playlist?list=PLsE-jsMAf6MONnhrq0_Z4-rIY8xSVyArC\n",
      "user: I would like to buy Exo0\n",
      "1/1 [==============================] - 0s 16ms/step\n",
      "Handy: Prosthesis is a very personalized solution, differening from user to user.\n",
      "Handy: Kindly provide your details here and we will contact you:\n",
      "Handy: https://forms.gle/C6Em8mSkH5zgbS576\n",
      "user: Ok. Thank you\n",
      "1/1 [==============================] - 0s 17ms/step\n",
      "Thank you for contacting us. Have a nice day!\n"
     ]
    }
   ],
   "source": [
    "start_state = 'start_convo'\n",
    "end_state = 'end_convo'\n",
    "\n",
    "state = start_state\n",
    "while state!=end_state:\n",
    "    for line in bot_replies[state]:\n",
    "        print('Handy: '+line.strip())\n",
    "        \n",
    "    user_reply = input('user: ')\n",
    "    \n",
    "    predict_tfidf=vectorizer.transform([user_reply]).toarray();\n",
    "    prediction=np.argmax( loaded_model.predict(predict_tfidf), axis=1 );\n",
    "    \n",
    "    state = encoder.inverse_transform(prediction)[0]\n",
    "#     print(state)\n",
    "for line in bot_replies[state]:\n",
    "    print('Handy: '+line.strip())"
   ]
  },
  {
   "cell_type": "code",
   "execution_count": null,
   "id": "3afedaee",
   "metadata": {},
   "outputs": [],
   "source": []
  }
 ],
 "metadata": {
  "kernelspec": {
   "display_name": "Python 3 (ipykernel)",
   "language": "python",
   "name": "python3"
  },
  "language_info": {
   "codemirror_mode": {
    "name": "ipython",
    "version": 3
   },
   "file_extension": ".py",
   "mimetype": "text/x-python",
   "name": "python",
   "nbconvert_exporter": "python",
   "pygments_lexer": "ipython3",
   "version": "3.10.6"
  }
 },
 "nbformat": 4,
 "nbformat_minor": 5
}
